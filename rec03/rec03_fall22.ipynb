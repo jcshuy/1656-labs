{
 "cells": [
  {
   "cell_type": "code",
   "execution_count": null,
   "metadata": {
    "collapsed": true
   },
   "outputs": [],
   "source": []
  },
  {
   "cell_type": "markdown",
   "metadata": {},
   "source": [
    "# CS 1656 – Introduction to Data Science \n",
    "\n",
    "## Instructor: Alexandros Labrinidis / Teaching Assistant: Evangelos Karageorgos\n",
    "### Additional credits: Xiaoting Li, Tahereh Arabghalizi, Evangelos Karageorgos, Zuha Agha, Anatoli Shein, Phuong Pham\n",
    "## Recitation 11: Regression and Decision Trees\n",
    "\n",
    "In this recitation, we will learn how to do regression and classification with decision trees using scikit-learn python package."
   ]
  },
  {
   "cell_type": "code",
   "execution_count": 1,
   "metadata": {
    "collapsed": true
   },
   "outputs": [],
   "source": [
    "import pandas as pd\n",
    "import numpy as np\n",
    "from sklearn import linear_model, tree, metrics\n",
    "import matplotlib.pyplot as plt\n",
    "%matplotlib inline"
   ]
  },
  {
   "cell_type": "markdown",
   "metadata": {},
   "source": [
    "## Linear Regression\n",
    "LinearRegression fits a linear model with coefficients w = (w_1, ..., w_p) to minimize the residual sum of squares between the observed responses in the dataset, and the responses predicted by the linear approximation.\n",
    "\n",
    "LinearRegression will take in its fit method arrays X, y and will store the coefficients w of the linear model in its coef_ member.\n",
    "\n",
    "We will now go through an example of linear regression on bike sharing dataset. "
   ]
  },
  {
   "cell_type": "code",
   "execution_count": 2,
   "metadata": {},
   "outputs": [
    {
     "data": {
      "text/html": [
       "<div>\n",
       "<style scoped>\n",
       "    .dataframe tbody tr th:only-of-type {\n",
       "        vertical-align: middle;\n",
       "    }\n",
       "\n",
       "    .dataframe tbody tr th {\n",
       "        vertical-align: top;\n",
       "    }\n",
       "\n",
       "    .dataframe thead th {\n",
       "        text-align: right;\n",
       "    }\n",
       "</style>\n",
       "<table border=\"1\" class=\"dataframe\">\n",
       "  <thead>\n",
       "    <tr style=\"text-align: right;\">\n",
       "      <th></th>\n",
       "      <th>instant</th>\n",
       "      <th>season</th>\n",
       "      <th>hr</th>\n",
       "      <th>holiday</th>\n",
       "      <th>weekday</th>\n",
       "      <th>workingday</th>\n",
       "      <th>weathersit</th>\n",
       "      <th>temp</th>\n",
       "      <th>temp_feels</th>\n",
       "      <th>hum</th>\n",
       "      <th>windspeed</th>\n",
       "      <th>cnt</th>\n",
       "    </tr>\n",
       "  </thead>\n",
       "  <tbody>\n",
       "    <tr>\n",
       "      <th>0</th>\n",
       "      <td>1</td>\n",
       "      <td>1</td>\n",
       "      <td>0</td>\n",
       "      <td>0</td>\n",
       "      <td>6</td>\n",
       "      <td>0</td>\n",
       "      <td>1</td>\n",
       "      <td>0.24</td>\n",
       "      <td>0.2879</td>\n",
       "      <td>0.81</td>\n",
       "      <td>0.0</td>\n",
       "      <td>16</td>\n",
       "    </tr>\n",
       "    <tr>\n",
       "      <th>1</th>\n",
       "      <td>2</td>\n",
       "      <td>1</td>\n",
       "      <td>1</td>\n",
       "      <td>0</td>\n",
       "      <td>6</td>\n",
       "      <td>0</td>\n",
       "      <td>1</td>\n",
       "      <td>0.22</td>\n",
       "      <td>0.2727</td>\n",
       "      <td>0.80</td>\n",
       "      <td>0.0</td>\n",
       "      <td>40</td>\n",
       "    </tr>\n",
       "    <tr>\n",
       "      <th>2</th>\n",
       "      <td>3</td>\n",
       "      <td>1</td>\n",
       "      <td>2</td>\n",
       "      <td>0</td>\n",
       "      <td>6</td>\n",
       "      <td>0</td>\n",
       "      <td>1</td>\n",
       "      <td>0.22</td>\n",
       "      <td>0.2727</td>\n",
       "      <td>0.80</td>\n",
       "      <td>0.0</td>\n",
       "      <td>32</td>\n",
       "    </tr>\n",
       "    <tr>\n",
       "      <th>3</th>\n",
       "      <td>4</td>\n",
       "      <td>1</td>\n",
       "      <td>3</td>\n",
       "      <td>0</td>\n",
       "      <td>6</td>\n",
       "      <td>0</td>\n",
       "      <td>1</td>\n",
       "      <td>0.24</td>\n",
       "      <td>0.2879</td>\n",
       "      <td>0.75</td>\n",
       "      <td>0.0</td>\n",
       "      <td>13</td>\n",
       "    </tr>\n",
       "    <tr>\n",
       "      <th>4</th>\n",
       "      <td>5</td>\n",
       "      <td>1</td>\n",
       "      <td>4</td>\n",
       "      <td>0</td>\n",
       "      <td>6</td>\n",
       "      <td>0</td>\n",
       "      <td>1</td>\n",
       "      <td>0.24</td>\n",
       "      <td>0.2879</td>\n",
       "      <td>0.75</td>\n",
       "      <td>0.0</td>\n",
       "      <td>1</td>\n",
       "    </tr>\n",
       "  </tbody>\n",
       "</table>\n",
       "</div>"
      ],
      "text/plain": [
       "   instant  season  hr  holiday  weekday  workingday  weathersit  temp  \\\n",
       "0        1       1   0        0        6           0           1  0.24   \n",
       "1        2       1   1        0        6           0           1  0.22   \n",
       "2        3       1   2        0        6           0           1  0.22   \n",
       "3        4       1   3        0        6           0           1  0.24   \n",
       "4        5       1   4        0        6           0           1  0.24   \n",
       "\n",
       "   temp_feels   hum  windspeed  cnt  \n",
       "0      0.2879  0.81        0.0   16  \n",
       "1      0.2727  0.80        0.0   40  \n",
       "2      0.2727  0.80        0.0   32  \n",
       "3      0.2879  0.75        0.0   13  \n",
       "4      0.2879  0.75        0.0    1  "
      ]
     },
     "execution_count": 2,
     "metadata": {},
     "output_type": "execute_result"
    }
   ],
   "source": [
    "df = pd.read_csv('http://data.cs1656.org/bike_share.csv')\n",
    "df.head()"
   ]
  },
  {
   "cell_type": "markdown",
   "metadata": {},
   "source": [
    "The attributes of the dataset are as follows:\n",
    "\n",
    "    - instant: record index\n",
    "\t- season : season (1:spring, 2:summer, 3:fall, 4:winter)\n",
    "\t- hr : hour (0 to 23)\n",
    "\t- holiday : weather day is holiday or not (extracted from http://dchr.dc.gov/page/holiday-schedule)\n",
    "\t- weekday : day of the week (0 to 6)\n",
    "\t- workingday : if day is neither weekend nor holiday is 1, otherwise is 0.\n",
    "\t+ weathersit : \n",
    "\t\t- 1: Clear\n",
    "\t\t- 2: Misty, Cloudy\n",
    "\t\t- 3: Light Snow, Light Rain\n",
    "\t\t- 4: Heavy Rain, Ice Pallets\n",
    "\t- temp : Normalized temperature in Celsius. The values are divided by 41 (max)\n",
    "\t- temp_feels: Normalized feeling temperature in Celsius. The values are divided by 50 (max)\n",
    "\t- hum: Normalized humidity. The values are divided by 100 (max)\n",
    "\t- windspeed: Normalized wind speed. The values are divided by 67 (max)\n",
    "\t- cnt: count of total rental bikes including both casual and registered\n",
    "\n",
    "Our target variable, `y`, is _cnt_. We will use a single attribute as input feature for this example and will select _temp_ as our input feature `X`. You will be using all attributes in one of your tasks. "
   ]
  },
  {
   "cell_type": "markdown",
   "metadata": {},
   "source": [
    "### Subsample\n",
    "As our dataset consists of more than 17000 rows, we will randomly subsample our dataset to select 1000 rows."
   ]
  },
  {
   "cell_type": "code",
   "execution_count": 3,
   "metadata": {},
   "outputs": [
    {
     "data": {
      "text/html": [
       "<div>\n",
       "<style scoped>\n",
       "    .dataframe tbody tr th:only-of-type {\n",
       "        vertical-align: middle;\n",
       "    }\n",
       "\n",
       "    .dataframe tbody tr th {\n",
       "        vertical-align: top;\n",
       "    }\n",
       "\n",
       "    .dataframe thead th {\n",
       "        text-align: right;\n",
       "    }\n",
       "</style>\n",
       "<table border=\"1\" class=\"dataframe\">\n",
       "  <thead>\n",
       "    <tr style=\"text-align: right;\">\n",
       "      <th></th>\n",
       "      <th>instant</th>\n",
       "      <th>season</th>\n",
       "      <th>hr</th>\n",
       "      <th>holiday</th>\n",
       "      <th>weekday</th>\n",
       "      <th>workingday</th>\n",
       "      <th>weathersit</th>\n",
       "      <th>temp</th>\n",
       "      <th>temp_feels</th>\n",
       "      <th>hum</th>\n",
       "      <th>windspeed</th>\n",
       "      <th>cnt</th>\n",
       "    </tr>\n",
       "  </thead>\n",
       "  <tbody>\n",
       "    <tr>\n",
       "      <th>1329</th>\n",
       "      <td>1330</td>\n",
       "      <td>1</td>\n",
       "      <td>16</td>\n",
       "      <td>0</td>\n",
       "      <td>1</td>\n",
       "      <td>1</td>\n",
       "      <td>3</td>\n",
       "      <td>0.42</td>\n",
       "      <td>0.4242</td>\n",
       "      <td>1.00</td>\n",
       "      <td>0.1343</td>\n",
       "      <td>42</td>\n",
       "    </tr>\n",
       "    <tr>\n",
       "      <th>17098</th>\n",
       "      <td>17099</td>\n",
       "      <td>4</td>\n",
       "      <td>5</td>\n",
       "      <td>0</td>\n",
       "      <td>4</td>\n",
       "      <td>1</td>\n",
       "      <td>2</td>\n",
       "      <td>0.30</td>\n",
       "      <td>0.3182</td>\n",
       "      <td>0.70</td>\n",
       "      <td>0.1045</td>\n",
       "      <td>35</td>\n",
       "    </tr>\n",
       "    <tr>\n",
       "      <th>9010</th>\n",
       "      <td>9011</td>\n",
       "      <td>1</td>\n",
       "      <td>7</td>\n",
       "      <td>1</td>\n",
       "      <td>1</td>\n",
       "      <td>0</td>\n",
       "      <td>1</td>\n",
       "      <td>0.10</td>\n",
       "      <td>0.1364</td>\n",
       "      <td>0.54</td>\n",
       "      <td>0.1045</td>\n",
       "      <td>33</td>\n",
       "    </tr>\n",
       "    <tr>\n",
       "      <th>6708</th>\n",
       "      <td>6709</td>\n",
       "      <td>4</td>\n",
       "      <td>2</td>\n",
       "      <td>0</td>\n",
       "      <td>3</td>\n",
       "      <td>1</td>\n",
       "      <td>2</td>\n",
       "      <td>0.56</td>\n",
       "      <td>0.5303</td>\n",
       "      <td>0.83</td>\n",
       "      <td>0.2836</td>\n",
       "      <td>2</td>\n",
       "    </tr>\n",
       "    <tr>\n",
       "      <th>11057</th>\n",
       "      <td>11058</td>\n",
       "      <td>2</td>\n",
       "      <td>21</td>\n",
       "      <td>0</td>\n",
       "      <td>2</td>\n",
       "      <td>1</td>\n",
       "      <td>1</td>\n",
       "      <td>0.44</td>\n",
       "      <td>0.4394</td>\n",
       "      <td>0.30</td>\n",
       "      <td>0.4478</td>\n",
       "      <td>206</td>\n",
       "    </tr>\n",
       "  </tbody>\n",
       "</table>\n",
       "</div>"
      ],
      "text/plain": [
       "       instant  season  hr  holiday  weekday  workingday  weathersit  temp  \\\n",
       "1329      1330       1  16        0        1           1           3  0.42   \n",
       "17098    17099       4   5        0        4           1           2  0.30   \n",
       "9010      9011       1   7        1        1           0           1  0.10   \n",
       "6708      6709       4   2        0        3           1           2  0.56   \n",
       "11057    11058       2  21        0        2           1           1  0.44   \n",
       "\n",
       "       temp_feels   hum  windspeed  cnt  \n",
       "1329       0.4242  1.00     0.1343   42  \n",
       "17098      0.3182  0.70     0.1045   35  \n",
       "9010       0.1364  0.54     0.1045   33  \n",
       "6708       0.5303  0.83     0.2836    2  \n",
       "11057      0.4394  0.30     0.4478  206  "
      ]
     },
     "execution_count": 3,
     "metadata": {},
     "output_type": "execute_result"
    }
   ],
   "source": [
    "df_subsample = df.sample(1000)\n",
    "df_subsample.head()"
   ]
  },
  {
   "cell_type": "markdown",
   "metadata": {},
   "source": [
    "### Train & Test Split\n",
    "We will split the subsample into 90% training set and 10% test set by slicing the first 900 rows for training and using the rest for testing. As fit takes numpy arrays as input we will use _values_ function to convert our Dataframe column into numpy array and use double brackets in order to make the arrays two-dimensional."
   ]
  },
  {
   "cell_type": "code",
   "execution_count": null,
   "metadata": {},
   "outputs": [],
   "source": [
    "train = df_subsample.iloc[1:900]\n",
    "train_x = train[['temp']].values\n",
    "train_y = train[['cnt']].values\n",
    "\n",
    "test=df_subsample.iloc[901:]\n",
    "test_x = test[['temp']].values\n",
    "test_y = test[['cnt']].values\n",
    "print (type(train_x), type(train_y), type(test_x), type(test_y))"
   ]
  },
  {
   "cell_type": "markdown",
   "metadata": {},
   "source": [
    "### Fit\n",
    "To fit our linear regression model, apply the following function. Note that the fit function takes numpy array of the format [num_samples,num_features]."
   ]
  },
  {
   "cell_type": "code",
   "execution_count": null,
   "metadata": {},
   "outputs": [],
   "source": [
    "# Create linear regression object\n",
    "regr = linear_model.LinearRegression()\n",
    "\n",
    "# Train the model using the training sets\n",
    "regr.fit(train_x, train_y)"
   ]
  },
  {
   "cell_type": "markdown",
   "metadata": {},
   "source": [
    "Now that we have fit our linear regression model onto the training data, our estimated model coefficients are stored in _coeff_ attribute of our model."
   ]
  },
  {
   "cell_type": "code",
   "execution_count": null,
   "metadata": {},
   "outputs": [],
   "source": [
    "# The coefficients\n",
    "print('Coefficients: \\n', regr.coef_)"
   ]
  },
  {
   "cell_type": "markdown",
   "metadata": {},
   "source": [
    "### Predict\n",
    "We will now use our trained linear regression model to make predictions on our test set. Our model will take temperature attribute, _temp_, of our test data and will make predictions on the count of people who are bike sharing, given by _cnt_."
   ]
  },
  {
   "cell_type": "code",
   "execution_count": null,
   "metadata": {},
   "outputs": [],
   "source": [
    "predict_y = regr.predict(test_x)\n",
    "# Printing  predicted and actual values side by side fro comparison\n",
    "np.column_stack((predict_y,test_y))"
   ]
  },
  {
   "cell_type": "markdown",
   "metadata": {},
   "source": [
    "### Mean Squared Error\n",
    "Looks like some of our model's predictions are not good. Now, let's measure the difference between our predicted and actual values by calculating the mean squared error. "
   ]
  },
  {
   "cell_type": "code",
   "execution_count": null,
   "metadata": {},
   "outputs": [],
   "source": [
    "meansq_error = np.mean((predict_y - test_y) ** 2)\n",
    "print (\"Mean squared error: %.2f\" % meansq_error)"
   ]
  },
  {
   "cell_type": "markdown",
   "metadata": {},
   "source": [
    "As expected our mean squared error is high, which means our model is not good. Can we improve it? What if we use more training data? Or more features? \n",
    "### Plot\n",
    "We can also visualize the difference between our predictions and actual values by plotting."
   ]
  },
  {
   "cell_type": "code",
   "execution_count": null,
   "metadata": {
    "scrolled": true
   },
   "outputs": [],
   "source": [
    "plt.scatter(test_x, test_y,  color='black', linewidth=1)\n",
    "plt.plot(test_x, predict_y, color='blue', linewidth=3)\n",
    "plt.show()"
   ]
  },
  {
   "cell_type": "markdown",
   "metadata": {},
   "source": [
    "## Decision Trees\n",
    "Decision Trees (DTs) are a non-parametric supervised learning method used for classification and regression. The goal is to create a model that predicts the value of a target variable by learning simple decision rules inferred from the data features.\n",
    "\n",
    "We will go through an example of binary classfication using decision trees on titanic survival dataset."
   ]
  },
  {
   "cell_type": "code",
   "execution_count": null,
   "metadata": {},
   "outputs": [],
   "source": [
    "dt = pd.read_csv('http://data.cs1656.org/titanic.csv')\n",
    "dt.head()"
   ]
  },
  {
   "cell_type": "markdown",
   "metadata": {},
   "source": [
    "The attributes of the dataset are as follows:\n",
    "    - survival        Survival\n",
    "                    (0 = No; 1 = Yes)\n",
    "    - pclass          Passenger Class\n",
    "                    (1 = 1st; 2 = 2nd; 3 = 3rd)\n",
    "    - name            Name\n",
    "    - sex             Sex\n",
    "    - age             Age\n",
    "    - sibsp           Number of Siblings/Spouses Aboard\n",
    "    - parch           Number of Parents/Children Aboard\n",
    "    - embarked        Port of Embarkation\n",
    "                    (C = Cherbourg; Q = Queenstown; S = Southampton)\n",
    "Our target class variable is _Survived_, whether  the passenger survived or not. We will use only a subset of attributes that take discreet values to build our decision tree.\n",
    "\n",
    "To fit a decision tree model, we will have to convert the categoricalvalues into numerical values. As the only categorical attribute we will use is _Sex_, we will only need to convert that column into numerical values using the following commands. "
   ]
  },
  {
   "cell_type": "code",
   "execution_count": null,
   "metadata": {},
   "outputs": [],
   "source": [
    "dt['Sex'] = dt['Sex'].replace(['female', 'male'], [1, 2])\n",
    "dt.head()"
   ]
  },
  {
   "cell_type": "markdown",
   "metadata": {},
   "source": [
    "### Train & Test Split\n",
    "We will split our data into train and test set using the first 800 rows for training and the rest for testing."
   ]
  },
  {
   "cell_type": "code",
   "execution_count": null,
   "metadata": {
    "collapsed": true
   },
   "outputs": [],
   "source": [
    "dt_train_x = dt.iloc[:800][['Pclass','Sex','SibSp']].values\n",
    "dt_train_y = dt.iloc[:800][['Survived']].values\n",
    "\n",
    "dt_test_x = dt.iloc[801:][['Pclass','Sex','SibSp']].values\n",
    "dt_test_y = dt.iloc[801:][['Survived']].values"
   ]
  },
  {
   "cell_type": "markdown",
   "metadata": {},
   "source": [
    "### Fit\n",
    "We will now fit our decision tree model onto the training set."
   ]
  },
  {
   "cell_type": "code",
   "execution_count": null,
   "metadata": {
    "collapsed": true
   },
   "outputs": [],
   "source": [
    "clf = tree.DecisionTreeClassifier()\n",
    "clf = clf.fit(dt_train_x, dt_train_y)"
   ]
  },
  {
   "cell_type": "markdown",
   "metadata": {},
   "source": [
    "### Predict"
   ]
  },
  {
   "cell_type": "code",
   "execution_count": null,
   "metadata": {},
   "outputs": [],
   "source": [
    "dt_predict_y = clf.predict(dt_test_x)\n",
    "## comparing predicted and actual values\n",
    "np.column_stack((dt_predict_y,dt_test_y))"
   ]
  },
  {
   "cell_type": "markdown",
   "metadata": {},
   "source": [
    "### Accuracy\n",
    "We can measure the accuracy of our prediction by using the following commands."
   ]
  },
  {
   "cell_type": "code",
   "execution_count": null,
   "metadata": {},
   "outputs": [],
   "source": [
    "accuracy = metrics.accuracy_score(dt_test_y,dt_predict_y)\n",
    "accuracy"
   ]
  },
  {
   "cell_type": "markdown",
   "metadata": {},
   "source": [
    "## Tasks"
   ]
  },
  {
   "cell_type": "markdown",
   "metadata": {},
   "source": [
    "** Task 1** \n",
    "\n",
    "Do linear regression over a sample of 1000 rows of bike share counts, _cnt_, using _weekday_, as input feature. Calculate the mean squared error by using first 900 rows for training and the rest for testing. Return the mean squared error.\n"
   ]
  },
  {
   "cell_type": "code",
   "execution_count": null,
   "metadata": {},
   "outputs": [],
   "source": [
    "import pandas as pd\n",
    "import numpy as np\n",
    "from sklearn import linear_model, tree, metrics\n",
    "import matplotlib.pyplot as plt\n",
    "%matplotlib inline\n",
    "\n",
    "df = pd.read_csv('http://data.cs1656.org/bike_share.csv')\n",
    "df_subsample = df.sample(1000)\n",
    "df_subsample.head()\n",
    "\n",
    "train = df_subsample.iloc[0:900]\n",
    "train_x = train[['weekday']].values\n",
    "train_y = train[['cnt']].values\n",
    "test = df_subsample.iloc[900:]\n",
    "test_x = test[['weekday']].values\n",
    "test_y = test[['cnt']].values\n",
    "print(type(train_x), type(train_y), type(test_x), type(test_y))\n",
    "\n",
    "# Create linear regression object\n",
    "regr = linear_model.LinearRegression()\n",
    "# Train the model using the training sets\n",
    "regr.fit(train_x, train_y)\n",
    "\n",
    "# The coefficients\n",
    "print('Coefficients: \\n', regr.coef_)\n",
    "\n",
    "predict_y = regr.predict(test_x)\n",
    "# Printing predicted and actual values side by side fro comparison\n",
    "\n",
    "np.column_stack((predict_y, test_y))\n",
    "print(np.column_stack((predict_y, test_y)))\n",
    "\n",
    "meansq_error = np.mean((predict_y - test_y)**2)\n",
    "print(\"Mean squared error: %.2f\" % meansq_error)\n"
   ]
  },
  {
   "cell_type": "markdown",
   "metadata": {},
   "source": [
    "** Task 2.1**\n",
    "\n",
    "Repeat Task 1 using all atttributes except instant (also, scatter plot is not required in this task). Is the mean squared error higher or lower? Is it better to use all attributes?"
   ]
  },
  {
   "cell_type": "code",
   "execution_count": null,
   "metadata": {},
   "outputs": [],
   "source": [
    "import pandas as pd\n",
    "import numpy as np\n",
    "from sklearn import linear_model, tree, metrics\n",
    "import matplotlib.pyplot as plt\n",
    "%matplotlib inline\n",
    "\n",
    "df = pd.read_csv('http://data.cs1656.org/bike_share.csv')\n",
    "df_subsample = df.sample(1000)\n",
    "df_subsample.head()\n",
    "\n",
    "train = df_subsample.iloc[0:900]\n",
    "train_x = train[[\n",
    "   'season', 'hr', 'holiday', 'weekday', 'workingday', 'weathersit',\n",
    "   'temp', 'temp_feels', 'hum', 'windspeed'\n",
    "]].values\n",
    "train_y = train[['cnt']].values\n",
    "test = df_subsample.iloc[900:]\n",
    "test_x = test[[\n",
    "   'season', 'hr', 'holiday', 'weekday', 'workingday', 'weathersit',\n",
    "   'temp', 'temp_feels', 'hum', 'windspeed'\n",
    "]].values\n",
    "test_y = test[['cnt']].values\n",
    "print(type(train_x), type(train_y), type(test_x), type(test_y))\n",
    "\n",
    "# Create linear regression object\n",
    "regr = linear_model.LinearRegression()\n",
    "# Train the model using the training sets\n",
    "regr.fit(train_x, train_y)\n",
    "\n",
    "# The coefficients\n",
    "print('Coefficients: \\n', regr.coef_)\n",
    "\n",
    "predict_y = regr.predict(test_x)\n",
    "# Printing predicted and actual values side by side fro comparison\n",
    "\n",
    "np.column_stack((predict_y, test_y))\n",
    "print(np.column_stack((predict_y, test_y)))\n",
    "\n",
    "meansq_error = np.mean((predict_y - test_y)**2)\n",
    "print(\"Mean squared error: %.2f\" % meansq_error)"
   ]
  },
  {
   "cell_type": "markdown",
   "metadata": {},
   "source": [
    "** Task 2.2**\n",
    "\n",
    "Comparing the results of task 1 and task 2.1, is it better to use all attributes? Why?"
   ]
  },
  {
   "cell_type": "markdown",
   "metadata": {},
   "source": [
    "The mean squared error is lower. It's better to use all attributes as it shows a lower margin of error from the larger input size."
   ]
  },
  {
   "cell_type": "markdown",
   "metadata": {},
   "source": [
    "** Task 3**\n",
    "\n",
    "You will use bank-data.csv as input for this task. Use decision trees to do binary classification of mortgage{yes,no} using region, sex and married attributes as input features. Use the first 500 rows for training and the rest for testing. Measure the accuracy of your classification. Return the accuracy."
   ]
  },
  {
   "cell_type": "code",
   "execution_count": null,
   "metadata": {},
   "outputs": [],
   "source": [
    "import pandas as pd\n",
    "import numpy as np\n",
    "from sklearn import linear_model, tree, metrics\n",
    "import matplotlib.pyplot as plt\n",
    "%matplotlib inline\n",
    "\n",
    "dt = pd.read_csv('http://data.cs1656.org/bank-data.csv')\n",
    "print(dt.head())\n",
    "print(list(dt.columns))\n",
    "#titanic columns only\n",
    "#dt['Sex'] = dt['Sex'].replace(['female', 'male'], [1, 2])\n",
    "#bank data\n",
    "dt['sex'] = dt['sex'].replace(['FEMALE', 'MALE'], [1, 2])\n",
    "dt['married'] = dt['married'].replace(['YES', 'NO'], [1, 0])\n",
    "dt['mortgage'] = dt['mortgage'].replace(['YES', 'NO'], [1, 0])\n",
    "dt['region'] = dt['region'].replace(\n",
    "   ['INNER_CITY', 'TOWN', 'RURAL', 'SUBURBAN'], [1, 2, 3, 4])\n",
    "\n",
    "dt_train_x = dt.iloc[:500][['region', 'sex', 'married']].values\n",
    "dt_train_y = dt.iloc[:500][['mortgage']].values\n",
    "dt_test_x = dt.iloc[500:][['region', 'sex', 'married']].values\n",
    "dt_test_y = dt.iloc[500:][['mortgage']].values\n",
    "\n",
    "clf = tree.DecisionTreeClassifier()\n",
    "clf = clf.fit(dt_train_x, dt_train_y)\n",
    "\n",
    "dt_predict_y = clf.predict(dt_test_x)\n",
    "## comparing predicted and actual values\n",
    "np.column_stack((dt_predict_y, dt_test_y))\n",
    "print(np.column_stack((dt_predict_y, dt_test_y)))\n",
    "accuracy = metrics.accuracy_score(dt_test_y, dt_predict_y)\n"
   ]
  }
 ],
 "metadata": {
  "anaconda-cloud": {},
  "kernelspec": {
   "display_name": "Python 3",
   "language": "python",
   "name": "python3"
  },
  "language_info": {
   "codemirror_mode": {
    "name": "ipython",
    "version": 3
   },
   "file_extension": ".py",
   "mimetype": "text/x-python",
   "name": "python",
   "nbconvert_exporter": "python",
   "pygments_lexer": "ipython3",
   "version": "3.10.1"
  },
  "vscode": {
   "interpreter": {
    "hash": "437829c23a9151cdfde8ef77df34252c11eed8d90b39e918710d49c0e18087b9"
   }
  }
 },
 "nbformat": 4,
 "nbformat_minor": 1
}
